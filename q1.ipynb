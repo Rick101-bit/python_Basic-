{
 "cells": [
  {
   "cell_type": "markdown",
   "metadata": {},
   "source": [
    "divison operator"
   ]
  },
  {
   "cell_type": "code",
   "execution_count": 9,
   "metadata": {},
   "outputs": [
    {
     "name": "stdout",
     "output_type": "stream",
     "text": [
      "4.0\n",
      "4\n",
      "0\n"
     ]
    }
   ],
   "source": [
    "x=12\n",
    "y=3\n",
    "print(x/y)\n",
    "print(x//y)\n",
    "print(x%y)\n"
   ]
  },
  {
   "cell_type": "markdown",
   "metadata": {},
   "source": [
    "exercise on operator"
   ]
  },
  {
   "cell_type": "code",
   "execution_count": 10,
   "metadata": {},
   "outputs": [
    {
     "name": "stdout",
     "output_type": "stream",
     "text": [
      "123\n"
     ]
    }
   ],
   "source": [
    "x=123.46\n",
    "print(int(x))"
   ]
  },
  {
   "cell_type": "code",
   "execution_count": 13,
   "metadata": {},
   "outputs": [
    {
     "name": "stdout",
     "output_type": "stream",
     "text": [
      "84.0\n"
     ]
    }
   ],
   "source": [
    "x=int(input(\"enter the number\"))\n",
    "y=int(input(\"enter the number\"))\n",
    "exp=(x*y/2)\n",
    "print(exp)"
   ]
  },
  {
   "cell_type": "code",
   "execution_count": 14,
   "metadata": {},
   "outputs": [],
   "source": [
    "expression=input(\"enter the expression\")\n",
    "result=eval(expression)"
   ]
  },
  {
   "cell_type": "code",
   "execution_count": 6,
   "metadata": {},
   "outputs": [
    {
     "name": "stdout",
     "output_type": "stream",
     "text": [
      "45\n",
      "50.0\n"
     ]
    }
   ],
   "source": [
    "age=int(input(\"enter the age\"))\n",
    "Age = abs(age)\n",
    "print(Age)\n",
    "height = int(input(\"enter the height\"))\n",
    "expression = \"(height*Age)/(Age/2)\"\n",
    "print(eval(expression))"
   ]
  },
  {
   "cell_type": "markdown",
   "metadata": {},
   "source": [
    "#create a user defined function to generate electricity bill and to aware about late fee and tell them that to make paymet as soon as possible "
   ]
  },
  {
   "cell_type": "code",
   "execution_count": 4,
   "metadata": {},
   "outputs": [
    {
     "name": "stdout",
     "output_type": "stream",
     "text": [
      "your bill is 120\n",
      "the last date of bill payment is 2nd october\n",
      "if you havenot pay bill yet you have to pay late fee\n",
      "thank you for your bill payments \n",
      "your bill is 150\n",
      "the last date of bill payment is 2nd october\n",
      "if you havenot pay bill yet you have to pay late fee\n",
      "thank you for your bill payments \n",
      "your bill is 160\n",
      "the last date of bill payment is 2nd october\n",
      "if you havenot pay bill yet you have to pay late fee\n",
      "thank you for your bill payments \n"
     ]
    }
   ],
   "source": [
    "def bill_payment():\n",
    "    print(\"the last date of bill payment is 2nd october\")\n",
    "    print(\"if you havenot pay bill yet you have to pay late fee\")\n",
    "    print(\"thank you for your bill payments \")\n",
    "def customer():\n",
    "    number = int(input(\"enter the number of customer :\"))\n",
    "    for i in range(number):\n",
    "        bill = int(input(\"enter  your bill in unit\"))\n",
    "        print(f\"your bill is {bill * 10}\")\n",
    "        bill_payment()\n",
    "customer()\n",
    "      \n",
    "\n"
   ]
  },
  {
   "cell_type": "markdown",
   "metadata": {},
   "source": [
    "create a python program to check a number is odd or even "
   ]
  },
  {
   "cell_type": "code",
   "execution_count": 7,
   "metadata": {},
   "outputs": [
    {
     "name": "stdout",
     "output_type": "stream",
     "text": [
      "the number is odd\n"
     ]
    }
   ],
   "source": [
    "def check_number(number):\n",
    "    if(number % 2 == 0):\n",
    "        print(\"the number is even \")\n",
    "    else:\n",
    "        print(\"the number is odd\")\n",
    "number = int(input(\"enter the number:\"))\n",
    "check_number(number)            \n"
   ]
  },
  {
   "cell_type": "markdown",
   "metadata": {},
   "source": [
    "write a python program to print  average , maximum number , minimum number , total number and check that the number is passed or not ."
   ]
  },
  {
   "cell_type": "code",
   "execution_count": 8,
   "metadata": {},
   "outputs": [
    {
     "name": "stdout",
     "output_type": "stream",
     "text": [
      "you are not passed \n",
      "you are passed \n",
      "you are not passed \n",
      "you are passed \n",
      "you are passed \n",
      "you are passed \n",
      "you are passed \n",
      "you are passed \n",
      "you are not passed \n",
      "the highest number ammong the sequence of the list is96\n",
      "total nom of student is 9\n",
      "total sum of the number is 764\n",
      "the minimum number form this sequence is 56\n",
      "no of passesd student is 6\n"
     ]
    }
   ],
   "source": [
    "def number_list(exam_score):\n",
    "    highest_number = max(exam_score)\n",
    "    number_of_students = len(exam_score)\n",
    "    minimum_number = min(exam_score)\n",
    "    total_number = sum(exam_score)\n",
    "    average = total_number /number_of_students\n",
    "    no_of_pass = 0\n",
    "    for i in exam_score:\n",
    "        if(i<80):\n",
    "            print(\"you are not passed \")\n",
    "        else:\n",
    "            print(\"you are passed \")\n",
    "            no_of_pass = no_of_pass +1\n",
    "    return highest_number,number_of_students,minimum_number,total_number,average, no_of_pass\n",
    "\n",
    "list =[78,89,79,90,96,94,89,93,56]\n",
    "highest_number,number_of_students,minimum_number,total_number,average, no_of_pass = number_list(list)        \n",
    "print(f\"the highest number ammong the sequence of the list is{highest_number}\")\n",
    "print(f\"total nom of student is {number_of_students}\")\n",
    "print(f\"total sum of the number is {total_number}\")\n",
    "print(f\"the minimum number form this sequence is {minimum_number}\")\n",
    "print(f\"no of passesd student is {no_of_pass}\")"
   ]
  },
  {
   "cell_type": "markdown",
   "metadata": {},
   "source": [
    "write apython program to play a number guessing game uding a user defined function and use it ."
   ]
  },
  {
   "cell_type": "code",
   "execution_count": 2,
   "metadata": {},
   "outputs": [
    {
     "name": "stdout",
     "output_type": "stream",
     "text": [
      "welcome to the game :\n",
      "30\n",
      "number is little bit greater \n",
      "congatulations , you guess the correct number :\n"
     ]
    }
   ],
   "source": [
    "import random\n",
    "def guessing_game():\n",
    "    print(\"welcome to the game :\")\n",
    "    number2 = random.randint(1,100)\n",
    "    print(number2)\n",
    "    number = None\n",
    "    while(number2 != number):\n",
    "        number = int(input(\"ente your number \"))\n",
    "        if(number<number2):\n",
    "            print(\"youur number is little short \")\n",
    "        elif(number>number2):\n",
    "            print(\"number is little bit greater \") \n",
    "        else:\n",
    "            print(\"congatulations , you guess the correct number :\")\n",
    "guessing_game()            \n",
    "\n",
    "\n",
    "\n",
    "\n",
    "    "
   ]
  },
  {
   "cell_type": "markdown",
   "metadata": {},
   "source": [
    "write a python program to print sum of some natural numbers "
   ]
  },
  {
   "cell_type": "code",
   "execution_count": 4,
   "metadata": {},
   "outputs": [
    {
     "name": "stdout",
     "output_type": "stream",
     "text": [
      "the total sum of the natural number is :14\n"
     ]
    }
   ],
   "source": [
    "def square_number(number):\n",
    "    sum = 0\n",
    "    for i in range(1,number+1):\n",
    "        sum =i**2 + sum \n",
    "    print(f\"the total sum of the natural number is :{sum}\")\n",
    "natural_number =int(input(\"enter the number ,you want to add \"))\n",
    "square_number(natural_number)\n"
   ]
  },
  {
   "cell_type": "markdown",
   "metadata": {},
   "source": [
    "#string"
   ]
  },
  {
   "cell_type": "markdown",
   "metadata": {},
   "source": [
    "write a python program to check the string like length , slicing"
   ]
  },
  {
   "cell_type": "code",
   "execution_count": 1,
   "metadata": {},
   "outputs": [
    {
     "name": "stdout",
     "output_type": "stream",
     "text": [
      "e\n"
     ]
    }
   ],
   "source": [
    "a = \"i love my india\"\n",
    "print(a[5])"
   ]
  },
  {
   "cell_type": "markdown",
   "metadata": {},
   "source": [
    "#list"
   ]
  },
  {
   "cell_type": "code",
   "execution_count": 6,
   "metadata": {},
   "outputs": [
    {
     "name": "stdout",
     "output_type": "stream",
     "text": [
      "the summation of thius list is 3\n",
      "the reverse of the list is [10, 9, 8, 7, 6, 5, 4, 3, 2, 1]\n"
     ]
    }
   ],
   "source": [
    "list = [1,2,3,4,5,6,7,8,9,10]\n",
    "sum =0\n",
    "for i in list[2:4:2]:\n",
    "    sum = i+sum\n",
    "print(f\"the summation of thius list is {sum}\")  \n",
    "print(f\"the reverse of the list is {list[::-1]}\")  "
   ]
  },
  {
   "cell_type": "markdown",
   "metadata": {},
   "source": [
    "suppose a list = [1,2,3,4,5,6,7,8,9.10] write a python program wherw first half part is in reverse order and last part is in reverse order . generate sum of last number of that list ."
   ]
  },
  {
   "cell_type": "code",
   "execution_count": 16,
   "metadata": {},
   "outputs": [
    {
     "name": "stdout",
     "output_type": "stream",
     "text": [
      "[5, 4, 3, 2, 1, 10, 9, 8, 7, 6]\n",
      "the summation of the list three number is 21\n"
     ]
    }
   ],
   "source": [
    "list = [1,2,3,4,5,6,7,8,9,10]\n",
    "reversed_list = list[0:5][::-1]\n",
    "reversed_list2 = list[5:][::-1]\n",
    "list = reversed_list + reversed_list2 \n",
    "print(list)\n",
    "sum =0\n",
    "for i  in list[-3:]:\n",
    "    sum = i+sum\n",
    "print(f\"the summation of the list three number is {sum}\")    \n",
    "\n"
   ]
  },
  {
   "cell_type": "markdown",
   "metadata": {},
   "source": [
    "write a python program to  replace the item in a string"
   ]
  },
  {
   "cell_type": "code",
   "execution_count": 31,
   "metadata": {},
   "outputs": [
    {
     "name": "stdout",
     "output_type": "stream",
     "text": [
      "ilkvemyindia\n"
     ]
    }
   ],
   "source": [
    "str =\"ilovemyindia\"\n",
    "str = str.replace(\"o\",\"k\")\n",
    "\n",
    "print(str)"
   ]
  },
  {
   "cell_type": "code",
   "execution_count": 4,
   "metadata": {},
   "outputs": [
    {
     "name": "stdout",
     "output_type": "stream",
     "text": [
      "6 7\n"
     ]
    }
   ],
   "source": [
    "a= 5\n",
    "b=7\n",
    "a=6\n",
    "b+5\n",
    "print(a,b)"
   ]
  },
  {
   "cell_type": "code",
   "execution_count": 6,
   "metadata": {},
   "outputs": [
    {
     "name": "stdout",
     "output_type": "stream",
     "text": [
      "[1, 2, 3, 4, 5, 9]\n"
     ]
    }
   ],
   "source": [
    "list = [1,2,3,4,5,6]\n",
    "list[5] = 9\n",
    "print(list)"
   ]
  },
  {
   "cell_type": "markdown",
   "metadata": {},
   "source": [
    "write a python program to remove all empty responses from a list "
   ]
  },
  {
   "cell_type": "code",
   "execution_count": 34,
   "metadata": {},
   "outputs": [
    {
     "name": "stdout",
     "output_type": "stream",
     "text": [
      "['yes', 'no', 1, '6', 'uhrihg']\n"
     ]
    }
   ],
   "source": [
    "list = [\"yes\",\"no\",\" \",1,\"6\",\" \",\"uhrihg\",\" \"]\n",
    "new_list =[]\n",
    "for i in list:\n",
    "    if(i != \" \"):\n",
    "         new_list.append(i)\n",
    "    else:\n",
    "        pass       \n",
    "print(new_list)        \n"
   ]
  },
  {
   "cell_type": "code",
   "execution_count": 20,
   "metadata": {},
   "outputs": [
    {
     "name": "stdout",
     "output_type": "stream",
     "text": [
      "hdoihfofbdfiughfui\n"
     ]
    }
   ],
   "source": [
    "string1 =\"hdoihfof\"\n",
    "string2 = \"bdfiughfui\"\n",
    "string = string1 + string2\n",
    "print(string)"
   ]
  },
  {
   "cell_type": "markdown",
   "metadata": {},
   "source": [
    "write a python program to find out the average of the two classes"
   ]
  },
  {
   "cell_type": "code",
   "execution_count": 21,
   "metadata": {},
   "outputs": [
    {
     "name": "stdout",
     "output_type": "stream",
     "text": [
      "the average of the two class marks is 50.611111111111114\n"
     ]
    }
   ],
   "source": [
    "class1_average= [79,34,37,34,34,34,67,45,34]\n",
    "class2_average = [34,45,67,23,78,89,56,87,34]\n",
    "class_average = class1_average + class2_average\n",
    "average = sum(class_average)/len(class_average)\n",
    "print(f\"the average of the two class marks is {average}\")"
   ]
  },
  {
   "cell_type": "markdown",
   "metadata": {},
   "source": [
    "write a python program to concate two list and the input were taken from the user."
   ]
  },
  {
   "cell_type": "code",
   "execution_count": 26,
   "metadata": {},
   "outputs": [
    {
     "name": "stdout",
     "output_type": "stream",
     "text": [
      "the new list is ['12', '14', '54', '25']\n",
      "['12', '23', '25']\n",
      "['12', '14', '54', '25', '12', '23', '25']\n"
     ]
    }
   ],
   "source": [
    "user_input = input(\"enter the values sepeared by commas ,\")\n",
    "list1 = user_input.split(\",\")\n",
    "print(f\"the new list is {list1}\")\n",
    "user_input2 = input(\"enter the element seperated by spacde :\")\n",
    "list2 = user_input2.split()\n",
    "print(list2)\n",
    "new_list = list1 + list2\n",
    "print(new_list)\n"
   ]
  },
  {
   "cell_type": "markdown",
   "metadata": {},
   "source": [
    "write apython program to gather list element from user and store them in list , find out theeir average of the list element basically the element are interger .  "
   ]
  },
  {
   "cell_type": "code",
   "execution_count": 35,
   "metadata": {},
   "outputs": [
    {
     "ename": "ValueError",
     "evalue": "invalid literal for int() with base 10: '12 15 5 2 '",
     "output_type": "error",
     "traceback": [
      "\u001b[1;31m---------------------------------------------------------------------------\u001b[0m",
      "\u001b[1;31mValueError\u001b[0m                                Traceback (most recent call last)",
      "Cell \u001b[1;32mIn[35], line 1\u001b[0m\n\u001b[1;32m----> 1\u001b[0m user_input \u001b[38;5;241m=\u001b[39m \u001b[38;5;28;43mint\u001b[39;49m\u001b[43m(\u001b[49m\u001b[38;5;28;43minput\u001b[39;49m\u001b[43m(\u001b[49m\u001b[38;5;124;43m\"\u001b[39;49m\u001b[38;5;124;43mente the element seperated by space :\u001b[39;49m\u001b[38;5;124;43m\"\u001b[39;49m\u001b[43m)\u001b[49m\u001b[43m)\u001b[49m\n\u001b[0;32m      2\u001b[0m \u001b[38;5;28mlist\u001b[39m \u001b[38;5;241m=\u001b[39m user_input\u001b[38;5;241m.\u001b[39msplit()\n\u001b[0;32m      3\u001b[0m \u001b[38;5;28mprint\u001b[39m(\u001b[38;5;28mlist\u001b[39m)\n",
      "\u001b[1;31mValueError\u001b[0m: invalid literal for int() with base 10: '12 15 5 2 '"
     ]
    }
   ],
   "source": [
    "user_input = int(input(\"ente the element seperated by space :\"))\n",
    "list = user_input.split()\n",
    "print(list)"
   ]
  },
  {
   "cell_type": "code",
   "execution_count": 36,
   "metadata": {},
   "outputs": [
    {
     "name": "stdout",
     "output_type": "stream",
     "text": [
      "the final list is [12, 15, 25, 45] \n",
      "the sum of the list is 97\n",
      "the average of the list is 24.25\n"
     ]
    }
   ],
   "source": [
    "user_input = input(\"enter the element seperated by commas,\")\n",
    "list = [int(i) for i in user_input.split(\",\")]\n",
    "print(f\"the final list is {list} \")\n",
    "print(f\"the sum of the list is {sum(list)}\")\n",
    "print(f\"the average of the list is {sum(list)/len(list)}\")"
   ]
  },
  {
   "cell_type": "code",
   "execution_count": 39,
   "metadata": {},
   "outputs": [
    {
     "name": "stdout",
     "output_type": "stream",
     "text": [
      "[12, 14, 54]\n",
      "None\n"
     ]
    }
   ],
   "source": [
    "user_input =input(\"enter the element of the string se4perate by commas\")\n",
    "list1 = [int(i) for i in user_input.split(\",\")]\n",
    "print(list1)\n",
    "print(list1.append([4,6]))"
   ]
  },
  {
   "cell_type": "markdown",
   "metadata": {},
   "source": [
    "write a python program to create a list and the perform this task onthat list \n",
    "1. add the value 60 at the end of the list \n",
    "2.insert the value 5 at the beginining \n",
    "3.remove the value of any of the them from the list \n",
    "4.print the modified list "
   ]
  },
  {
   "cell_type": "code",
   "execution_count": 42,
   "metadata": {},
   "outputs": [
    {
     "name": "stdout",
     "output_type": "stream",
     "text": [
      "after adding 60 the list will  be [12, 15, 26, 30, 49, 60]\n",
      "after adding 5 the list will be[5, 12, 15, 26, 30, 49, 60]\n",
      "thew final list will be [5, 12, 15, 26, 49, 60]\n"
     ]
    }
   ],
   "source": [
    "user_input = input(\"enter the elements of the list seperated by comma \")\n",
    "list = [int(i) for i in user_input.split(\",\")]\n",
    "list.append(60)\n",
    "print(f\"after adding 60 the list will  be {list}\")\n",
    "list.insert(0,5)\n",
    "print(f\"after adding 5 the list will be{list}\")\n",
    "list.remove(30)\n",
    "print(f\"thew final list will be {list}\")"
   ]
  },
  {
   "cell_type": "code",
   "execution_count": 2,
   "metadata": {},
   "outputs": [
    {
     "name": "stdout",
     "output_type": "stream",
     "text": [
      "[1, 2, 3, 4, 5, 9]\n"
     ]
    }
   ],
   "source": [
    "list = [1,2,3,4,5]\n",
    "list.append(9)\n",
    "list1= list\n",
    "print(list1)"
   ]
  },
  {
   "cell_type": "markdown",
   "metadata": {},
   "source": [
    "write  a python program to gather student informatiom like number of students and their credits \n",
    "1.asks the user input like how manty students are present in your class\n",
    "2.asks the students to enter their credsit \n",
    "3.check if credit is more than 80 , hw is full time and if less than 80 it is half time \n"
   ]
  },
  {
   "cell_type": "code",
   "execution_count": 4,
   "metadata": {},
   "outputs": [
    {
     "name": "stdout",
     "output_type": "stream",
     "text": [
      "[12, 98, 46, 95, 86]\n",
      "the enrollment statud of the student is ['halftime', 'fulltime', 'halftime', 'fulltime', 'fulltime']\n",
      "the enrollment status of student 1 is halftime\n",
      "the enrollment status of student 2 is fulltime\n",
      "the enrollment status of student 3 is halftime\n",
      "the enrollment status of student 4 is fulltime\n",
      "the enrollment status of student 5 is fulltime\n"
     ]
    }
   ],
   "source": [
    "number_of_students = int(input(\"enter the number of students in your class:\"))\n",
    "credits = []\n",
    "for i in range(number_of_students):\n",
    "    credit = int(input(f\"ente the credit of of students{i+1}\"))\n",
    "    credits.append(credit)\n",
    "print(credits)\n",
    "entrollment_status = []\n",
    "for i in credits:\n",
    "    if(i<80):\n",
    "        entrollment_status.append(\"halftime\")\n",
    "    else:\n",
    "        entrollment_status.append(\"fulltime\")\n",
    "print(f\"the enrollment statud of the student is {entrollment_status}\")\n",
    "for i in range(number_of_students):\n",
    "    print(f\"the enrollment status of student {i+1} is {entrollment_status[i]}\")        "
   ]
  },
  {
   "cell_type": "code",
   "execution_count": 8,
   "metadata": {},
   "outputs": [
    {
     "name": "stdout",
     "output_type": "stream",
     "text": [
      "[12, 56, 98, 67, 85, 36]\n"
     ]
    }
   ],
   "source": [
    "number =int(input(\"enter the number of studednts in your class\"))\n",
    "#enter the credits of your student\n",
    "user_input =input(\"enter the vluse seperated by commas\")\n",
    "credits = [int(i)for i in user_input.split(\",\")]\n",
    "print(credits )"
   ]
  },
  {
   "cell_type": "markdown",
   "metadata": {},
   "source": [
    "writw s python program  to take user input and  count verify them that they are child or adult or old . "
   ]
  },
  {
   "cell_type": "code",
   "execution_count": 3,
   "metadata": {},
   "outputs": [
    {
     "name": "stdout",
     "output_type": "stream",
     "text": [
      "the list of the differemt ages of person is :[15, 64, 28, 15, 23, 10, 68, 36, 10, 27]\n",
      "the child aged person is [15, 15, 10, 10] and the number of the person is 4\n",
      "the adult aged person is [64, 28, 23, 36, 27] and the number of the person is 5\n",
      "the oldage  aged person is [68] and the number of the person is 1\n"
     ]
    }
   ],
   "source": [
    "num_person = int(input(\"enter the number of person :\"))\n",
    "ages =[]\n",
    "for i in range(num_person):\n",
    "    age = int(input(\"enrter the age of the person :\"))\n",
    "    ages.append(age)\n",
    "print(f\"the list of the differemt ages of person is :{ages}\")  \n",
    "child_count = []\n",
    "adult_count = []\n",
    "oldage_count = []\n",
    "for i in ages:\n",
    "    if(i<18):\n",
    "        child_count.append(i)\n",
    "    elif(18<=i<65):\n",
    "        adult_count.append(i)\n",
    "    else:\n",
    "        oldage_count.append(i)\n",
    "print(f\"the child aged person is {child_count} and the number of the person is {len(child_count)}\")                \n",
    "print(f\"the adult aged person is {adult_count} and the number of the person is {len(adult_count)}\")\n",
    "print(f\"the oldage  aged person is {oldage_count} and the number of the person is {len(oldage_count)}\")    \n"
   ]
  },
  {
   "cell_type": "markdown",
   "metadata": {},
   "source": [
    "enter  a string from user then convert it into upper case, split them , then add them in a list using a separator , print the modified sentence "
   ]
  },
  {
   "cell_type": "code",
   "execution_count": 6,
   "metadata": {},
   "outputs": [
    {
     "name": "stdout",
     "output_type": "stream",
     "text": [
      "ghhu hg hgu \n",
      "GHHU HG HGU \n",
      "['ghhu', 'hg', 'hgu', '']\n",
      "<class 'list'>\n",
      "ghhu hg hgu \n",
      "<class 'str'>\n"
     ]
    }
   ],
   "source": [
    "str = input(\"enter a string \")\n",
    "print(str)\n",
    "print(str.upper())\n",
    "str1 = str.split(\" \" ,4)\n",
    "print(str1)\n",
    "print(type(str1))\n",
    "result = \" \".join(str1)\n",
    "print(result)\n",
    "print(type(result)\n",
    "      \n",
    "      \n",
    "      \n",
    "      \n",
    "      )"
   ]
  },
  {
   "cell_type": "markdown",
   "metadata": {},
   "source": [
    "enter a list from the user and sorted then in ascending and desecending order then print the sorted list "
   ]
  },
  {
   "cell_type": "code",
   "execution_count": 20,
   "metadata": {},
   "outputs": [
    {
     "name": "stdout",
     "output_type": "stream",
     "text": [
      "12,28,35,26\n",
      "[12, 28, 35, 26]\n",
      "<class 'list'>\n",
      "[12, 26, 28, 35]\n",
      "[35, 28, 26, 12]\n"
     ]
    }
   ],
   "source": [
    "list= input(\"enter the numbers separated by comma\")\n",
    "print(list)\n",
    "list1 =[ int(i) for i in list.split(\",\")]\n",
    "print(list1)\n",
    "print(type(list1))\n",
    "list1.sort()\n",
    "print(list1)\n",
    "list1.sort(reverse=True)\n",
    "print(list1)"
   ]
  },
  {
   "cell_type": "markdown",
   "metadata": {},
   "source": [
    "create a tuple and slice it "
   ]
  },
  {
   "cell_type": "code",
   "execution_count": 7,
   "metadata": {},
   "outputs": [
    {
     "name": "stdout",
     "output_type": "stream",
     "text": [
      "('a',)\n",
      "('b', 'c', 'd', 'e')\n",
      "('a', 'b', 'c', 'd')\n",
      "('e',)\n",
      "('e', 'd', 'c', 'b', 'a')\n",
      "('a', 'b', 'c')\n"
     ]
    }
   ],
   "source": [
    "tuple1 = (\"a\",\"b\",\"c\",\"d\",\"e\")\n",
    "print(tuple1[:1])\n",
    "print(tuple1[1:])\n",
    "print(tuple1[:-1])\n",
    "print(tuple1[-1:])\n",
    "print(tuple1[::-1])\n",
    "print(tuple1[-5:-2])"
   ]
  },
  {
   "cell_type": "markdown",
   "metadata": {},
   "source": [
    "write a python code create a tuple and add an element into it "
   ]
  },
  {
   "cell_type": "code",
   "execution_count": 10,
   "metadata": {},
   "outputs": [
    {
     "name": "stdout",
     "output_type": "stream",
     "text": [
      "['a', 'b', 'jfv', 'irjg', 'h']\n",
      "<class 'tuple'>\n",
      "('a', 'b', 'jfv', 'irjg', 'h')\n"
     ]
    }
   ],
   "source": [
    "tup = (\"a\",'b','jfv','irjg','h')\n",
    "print(list(tup))\n",
    "print(type(tup))\n",
    "print(tup)"
   ]
  },
  {
   "cell_type": "markdown",
   "metadata": {},
   "source": [
    "write a python program and create a  tuple convert it into tuple and add an element "
   ]
  },
  {
   "cell_type": "code",
   "execution_count": 17,
   "metadata": {},
   "outputs": [
    {
     "name": "stdout",
     "output_type": "stream",
     "text": [
      "['a', 'jh', 'u', 'rf', 'f', 5]\n",
      "['a', 'jh', 'u', 'rf', 'f', 5]\n"
     ]
    }
   ],
   "source": [
    "tup = ('a','jh','u','rf','f')\n",
    "tup = list(tup)\n",
    "type(tup)\n",
    "tup.append(5)\n",
    "tu1 =tup\n",
    "print(tup)\n",
    "print(tu1)"
   ]
  },
  {
   "cell_type": "markdown",
   "metadata": {},
   "source": [
    "#set "
   ]
  },
  {
   "cell_type": "markdown",
   "metadata": {},
   "source": [
    "write a pytho n program to  create a set and add an element to it "
   ]
  },
  {
   "cell_type": "code",
   "execution_count": 1,
   "metadata": {},
   "outputs": [
    {
     "name": "stdout",
     "output_type": "stream",
     "text": [
      "{1, 2, 3, 4, 'jhf', 'hnfdjv', 8}\n",
      "{1, 2, 3, 4, 6, 'hnfdjv', 8, 7, 'jhf'}\n"
     ]
    }
   ],
   "source": [
    "s = {1,2,3,4,'hnfdjv','jhf'}\n",
    "\n",
    "s.add(8)\n",
    "print(s)\n",
    "s1 ={1,3,6,7}\n",
    "s.update(s1)\n",
    "print(s)"
   ]
  },
  {
   "cell_type": "markdown",
   "metadata": {},
   "source": [
    "maximum and miimum of  a set "
   ]
  },
  {
   "cell_type": "code",
   "execution_count": 2,
   "metadata": {},
   "outputs": [
    {
     "name": "stdout",
     "output_type": "stream",
     "text": [
      "the maximum from the ser is 8\n",
      "the minimum number from the set2 is 2\n"
     ]
    }
   ],
   "source": [
    "set1 ={1,5,7,8,2}\n",
    "set2 = {2,5,9,67}\n",
    "maximum = max(set1)\n",
    "print(f\"the maximum from the ser is {maximum}\")\n",
    "minimum =min(set2)\n",
    "print(f\"the minimum number from the set2 is {minimum}\")"
   ]
  },
  {
   "cell_type": "markdown",
   "metadata": {},
   "source": [
    "union of two set "
   ]
  },
  {
   "cell_type": "code",
   "execution_count": 4,
   "metadata": {},
   "outputs": [
    {
     "name": "stdout",
     "output_type": "stream",
     "text": [
      "{0, 4, 7, 8, 9, 16, 'dnhf', 27}\n"
     ]
    }
   ],
   "source": [
    "set1 = {16,7,9,0,4}\n",
    "set2 = {27,8,9,'dnhf'}\n",
    "set3 =set1.union(set2)\n",
    "print(set3)"
   ]
  },
  {
   "cell_type": "markdown",
   "metadata": {},
   "source": [
    "intersection of two set "
   ]
  },
  {
   "cell_type": "code",
   "execution_count": 5,
   "metadata": {},
   "outputs": [
    {
     "name": "stdout",
     "output_type": "stream",
     "text": [
      "the intersection between two set is {1, 4, 9}\n"
     ]
    }
   ],
   "source": [
    "set1 = {1,5,8,4,5,9}\n",
    "set2 = {1,6,9,7,4,87}\n",
    "inter = set1.intersection(set2)\n",
    "print(f\"the intersection between two set is {inter}\")"
   ]
  },
  {
   "cell_type": "markdown",
   "metadata": {},
   "source": [
    "difference between two sets "
   ]
  },
  {
   "cell_type": "code",
   "execution_count": 7,
   "metadata": {},
   "outputs": [
    {
     "name": "stdout",
     "output_type": "stream",
     "text": [
      "{8}\n",
      "the diifernce between the two sets is {9, 5}\n"
     ]
    }
   ],
   "source": [
    "set1 = {1,4,6,7,8}\n",
    "set2 = {1,4,6,7,5,9}\n",
    "print(set1.difference(set2))\n",
    "differ = set2.difference(set1)``\n",
    "print(f\"the diifernce between the two sets is {differ}\")"
   ]
  },
  {
   "cell_type": "markdown",
   "metadata": {},
   "source": [
    "define two sets students who passed math and students who passed science containing students id who passed math and science respectively \n",
    "1.print the  number of students who passed both math and science .\n",
    "2.[rint the stidents ids who passe3d only math .\n",
    "3. print the student ids who passed only science .\n",
    "4. check that the students who passed math is a subset of students that passed science .\n",
    "5. check that the students who passed science is a subset of students that passed ,ath .\n"
   ]
  },
  {
   "cell_type": "code",
   "execution_count": 1,
   "metadata": {},
   "outputs": [
    {
     "name": "stdout",
     "output_type": "stream",
     "text": [
      "the students number of 7 thats  are {100, 101, 134, 106, 156, 157, 78} \n",
      "the number of 7that are {100, 101, 134, 168, 89, 106, 156}\n",
      "the students that are passed both math and science are {100, 101, 134, 106, 156}\n",
      "the students that are passed only math  {157, 78}\n",
      "the students those are passed only in math {168, 89}\n",
      "the set of studets those passed math is subset of those students passed scince is a subet or not ? the answer is  False\n",
      "the set of the students who are passed science is superset of students passed in maths ,is it true ?False\n"
     ]
    }
   ],
   "source": [
    "students_passed_math = {100,101,106,156,134,157,78}\n",
    "students_passed_science ={100,101,106,156,134,168,89}\n",
    "print(f\"the students number of {len(students_passed_math)} thats  are {students_passed_math} \")\n",
    "print(f\"the number of {len(students_passed_science)}that are {students_passed_science}\")\n",
    "students_passed_both = students_passed_math.intersection(students_passed_science)\n",
    "print(f\"the students that are passed both math and science are {students_passed_both}\")\n",
    "differ = students_passed_math.difference(students_passed_science)\n",
    "print(f\"the students that are passed only math  {differ}\")\n",
    "differ1 = students_passed_science.difference(students_passed_math)\n",
    "print(f\"the students those are passed only in math {differ1}\")\n",
    "sub = students_passed_math.issubset(students_passed_science)\n",
    "print(\"the set of studets those passed math is subset of those students passed scince is a subet or not ? the answer is \",sub)\n",
    "super= students_passed_science.issuperset(students_passed_math)\n",
    "print(f\"the set of the students who are passed science is superset of students passed in maths ,is it true ?{super}\")\n",
    "\n"
   ]
  }
 ],
 "metadata": {
  "kernelspec": {
   "display_name": "Python 3",
   "language": "python",
   "name": "python3"
  },
  "language_info": {
   "codemirror_mode": {
    "name": "ipython",
    "version": 3
   },
   "file_extension": ".py",
   "mimetype": "text/x-python",
   "name": "python",
   "nbconvert_exporter": "python",
   "pygments_lexer": "ipython3",
   "version": "3.11.4"
  }
 },
 "nbformat": 4,
 "nbformat_minor": 2
}
